{
 "cells": [
  {
   "cell_type": "code",
   "execution_count": 1,
   "metadata": {},
   "outputs": [
    {
     "name": "stderr",
     "output_type": "stream",
     "text": [
      "INFO: {'User-Agent': 'Mozilla/5.0 (compatible, MSIE 11, Windows NT 6.3; Trident/7.0; rv:11.0) like Gecko'}\n"
     ]
    }
   ],
   "source": [
    "from twitterscraper import query_tweets\n",
    "import datetime as dt\n",
    "import pandas as pd"
   ]
  },
  {
   "cell_type": "code",
   "execution_count": 2,
   "metadata": {},
   "outputs": [],
   "source": [
    "NameOfCompanies = [\"@Samsung\",\"@SamsungMobile\", \"samsunggalaxy\", \"SamsungSupport\",\"galaxynote\",\"galaxybuds\"]\n",
    "companies = []"
   ]
  },
  {
   "cell_type": "code",
   "execution_count": 3,
   "metadata": {},
   "outputs": [
    {
     "name": "stderr",
     "output_type": "stream",
     "text": [
      "INFO: queries: ['@Samsung since:2019-10-01 until:2019-10-07', '@Samsung since:2019-10-07 until:2019-10-13', '@Samsung since:2019-10-13 until:2019-10-19', '@Samsung since:2019-10-19 until:2019-10-25', '@Samsung since:2019-10-25 until:2019-10-31', '@Samsung since:2019-10-31 until:2019-11-06', '@Samsung since:2019-11-06 until:2019-11-13', '@Samsung since:2019-11-13 until:2019-11-19', '@Samsung since:2019-11-19 until:2019-11-25', '@Samsung since:2019-11-25 until:2019-12-01', '@Samsung since:2019-12-01 until:2019-12-07', '@Samsung since:2019-12-07 until:2019-12-13', '@Samsung since:2019-12-13 until:2019-12-19', '@Samsung since:2019-12-19 until:2019-12-26', '@Samsung since:2019-12-26 until:2020-01-01', '@Samsung since:2020-01-01 until:2020-01-07', '@Samsung since:2020-01-07 until:2020-01-13', '@Samsung since:2020-01-13 until:2020-01-19', '@Samsung since:2020-01-19 until:2020-01-25', '@Samsung since:2020-01-25 until:2020-02-01']\n",
      "INFO: Got 585 tweets (585 new).\n",
      "INFO: Got 1129 tweets (544 new).\n",
      "INFO: Got 1791 tweets (662 new).\n",
      "INFO: Got 2367 tweets (576 new).\n",
      "INFO: Got 3017 tweets (650 new).\n",
      "INFO: Got 3671 tweets (654 new).\n",
      "INFO: Got 4228 tweets (557 new).\n",
      "INFO: Got 4897 tweets (669 new).\n",
      "INFO: Got 5571 tweets (674 new).\n",
      "INFO: Got 6270 tweets (699 new).\n",
      "INFO: Got 6901 tweets (631 new).\n",
      "INFO: Got 7565 tweets (664 new).\n",
      "INFO: Got 8223 tweets (658 new).\n",
      "INFO: Got 8897 tweets (674 new).\n",
      "INFO: Got 9603 tweets (706 new).\n",
      "INFO: Got 10283 tweets (680 new).\n",
      "INFO: Got 10968 tweets (685 new).\n",
      "INFO: Got 11580 tweets (612 new).\n",
      "INFO: Got 12255 tweets (675 new).\n",
      "INFO: Got 12921 tweets (666 new).\n",
      "INFO: queries: ['@SamsungMobile since:2019-10-01 until:2019-10-07', '@SamsungMobile since:2019-10-07 until:2019-10-13', '@SamsungMobile since:2019-10-13 until:2019-10-19', '@SamsungMobile since:2019-10-19 until:2019-10-25', '@SamsungMobile since:2019-10-25 until:2019-10-31', '@SamsungMobile since:2019-10-31 until:2019-11-06', '@SamsungMobile since:2019-11-06 until:2019-11-13', '@SamsungMobile since:2019-11-13 until:2019-11-19', '@SamsungMobile since:2019-11-19 until:2019-11-25', '@SamsungMobile since:2019-11-25 until:2019-12-01', '@SamsungMobile since:2019-12-01 until:2019-12-07', '@SamsungMobile since:2019-12-07 until:2019-12-13', '@SamsungMobile since:2019-12-13 until:2019-12-19', '@SamsungMobile since:2019-12-19 until:2019-12-26', '@SamsungMobile since:2019-12-26 until:2020-01-01', '@SamsungMobile since:2020-01-01 until:2020-01-07', '@SamsungMobile since:2020-01-07 until:2020-01-13', '@SamsungMobile since:2020-01-13 until:2020-01-19', '@SamsungMobile since:2020-01-19 until:2020-01-25', '@SamsungMobile since:2020-01-25 until:2020-02-01']\n",
      "INFO: Got 17 tweets (17 new).\n",
      "INFO: Got 34 tweets (17 new).\n",
      "INFO: Got 53 tweets (19 new).\n",
      "INFO: Got 72 tweets (19 new).\n",
      "INFO: Got 91 tweets (19 new).\n",
      "INFO: Got 111 tweets (20 new).\n",
      "INFO: Got 130 tweets (19 new).\n",
      "INFO: Got 149 tweets (19 new).\n",
      "INFO: Got 169 tweets (20 new).\n",
      "INFO: Got 187 tweets (18 new).\n",
      "INFO: Got 205 tweets (18 new).\n",
      "INFO: Got 214 tweets (9 new).\n",
      "INFO: Got 232 tweets (18 new).\n",
      "INFO: Got 249 tweets (17 new).\n",
      "INFO: Got 268 tweets (19 new).\n",
      "INFO: Got 286 tweets (18 new).\n",
      "INFO: Got 306 tweets (20 new).\n",
      "INFO: Got 325 tweets (19 new).\n",
      "INFO: Got 344 tweets (19 new).\n",
      "INFO: Got 361 tweets (17 new).\n",
      "INFO: queries: ['samsunggalaxy since:2019-10-01 until:2019-10-07', 'samsunggalaxy since:2019-10-07 until:2019-10-13', 'samsunggalaxy since:2019-10-13 until:2019-10-19', 'samsunggalaxy since:2019-10-19 until:2019-10-25', 'samsunggalaxy since:2019-10-25 until:2019-10-31', 'samsunggalaxy since:2019-10-31 until:2019-11-06', 'samsunggalaxy since:2019-11-06 until:2019-11-13', 'samsunggalaxy since:2019-11-13 until:2019-11-19', 'samsunggalaxy since:2019-11-19 until:2019-11-25', 'samsunggalaxy since:2019-11-25 until:2019-12-01', 'samsunggalaxy since:2019-12-01 until:2019-12-07', 'samsunggalaxy since:2019-12-07 until:2019-12-13', 'samsunggalaxy since:2019-12-13 until:2019-12-19', 'samsunggalaxy since:2019-12-19 until:2019-12-26', 'samsunggalaxy since:2019-12-26 until:2020-01-01', 'samsunggalaxy since:2020-01-01 until:2020-01-07', 'samsunggalaxy since:2020-01-07 until:2020-01-13', 'samsunggalaxy since:2020-01-13 until:2020-01-19', 'samsunggalaxy since:2020-01-19 until:2020-01-25', 'samsunggalaxy since:2020-01-25 until:2020-02-01']\n",
      "INFO: Got 20 tweets (20 new).\n",
      "INFO: Got 40 tweets (20 new).\n",
      "INFO: Got 59 tweets (19 new).\n",
      "INFO: Got 79 tweets (20 new).\n",
      "INFO: Got 96 tweets (17 new).\n",
      "INFO: Got 115 tweets (19 new).\n",
      "INFO: Got 135 tweets (20 new).\n",
      "INFO: Got 155 tweets (20 new).\n",
      "INFO: Got 169 tweets (14 new).\n",
      "INFO: Got 185 tweets (16 new).\n",
      "INFO: Got 205 tweets (20 new).\n",
      "INFO: Got 224 tweets (19 new).\n",
      "INFO: Got 244 tweets (20 new).\n",
      "INFO: Got 263 tweets (19 new).\n",
      "INFO: Got 283 tweets (20 new).\n",
      "INFO: Got 303 tweets (20 new).\n",
      "INFO: Got 323 tweets (20 new).\n",
      "INFO: Got 343 tweets (20 new).\n",
      "INFO: Got 363 tweets (20 new).\n",
      "INFO: Got 383 tweets (20 new).\n",
      "INFO: queries: ['SamsungSupport since:2019-10-01 until:2019-10-07', 'SamsungSupport since:2019-10-07 until:2019-10-13', 'SamsungSupport since:2019-10-13 until:2019-10-19', 'SamsungSupport since:2019-10-19 until:2019-10-25', 'SamsungSupport since:2019-10-25 until:2019-10-31', 'SamsungSupport since:2019-10-31 until:2019-11-06', 'SamsungSupport since:2019-11-06 until:2019-11-13', 'SamsungSupport since:2019-11-13 until:2019-11-19', 'SamsungSupport since:2019-11-19 until:2019-11-25', 'SamsungSupport since:2019-11-25 until:2019-12-01', 'SamsungSupport since:2019-12-01 until:2019-12-07', 'SamsungSupport since:2019-12-07 until:2019-12-13', 'SamsungSupport since:2019-12-13 until:2019-12-19', 'SamsungSupport since:2019-12-19 until:2019-12-26', 'SamsungSupport since:2019-12-26 until:2020-01-01', 'SamsungSupport since:2020-01-01 until:2020-01-07', 'SamsungSupport since:2020-01-07 until:2020-01-13', 'SamsungSupport since:2020-01-13 until:2020-01-19', 'SamsungSupport since:2020-01-19 until:2020-01-25', 'SamsungSupport since:2020-01-25 until:2020-02-01']\n",
      "INFO: Got 20 tweets (20 new).\n",
      "INFO: Got 40 tweets (20 new).\n",
      "INFO: Got 56 tweets (16 new).\n",
      "INFO: Got 76 tweets (20 new).\n",
      "INFO: Got 96 tweets (20 new).\n",
      "INFO: Got 116 tweets (20 new).\n",
      "INFO: Got 134 tweets (18 new).\n",
      "INFO: Got 154 tweets (20 new).\n",
      "INFO: Got 174 tweets (20 new).\n",
      "INFO: Got 194 tweets (20 new).\n",
      "INFO: Got 214 tweets (20 new).\n",
      "INFO: Got 234 tweets (20 new).\n",
      "INFO: Got 254 tweets (20 new).\n",
      "INFO: Got 274 tweets (20 new).\n",
      "INFO: Got 294 tweets (20 new).\n",
      "INFO: Got 314 tweets (20 new).\n",
      "INFO: Got 334 tweets (20 new).\n",
      "INFO: Got 354 tweets (20 new).\n",
      "INFO: Got 374 tweets (20 new).\n",
      "INFO: Got 394 tweets (20 new).\n",
      "INFO: queries: ['galaxynote since:2019-10-01 until:2019-10-07', 'galaxynote since:2019-10-07 until:2019-10-13', 'galaxynote since:2019-10-13 until:2019-10-19', 'galaxynote since:2019-10-19 until:2019-10-25', 'galaxynote since:2019-10-25 until:2019-10-31', 'galaxynote since:2019-10-31 until:2019-11-06', 'galaxynote since:2019-11-06 until:2019-11-13', 'galaxynote since:2019-11-13 until:2019-11-19', 'galaxynote since:2019-11-19 until:2019-11-25', 'galaxynote since:2019-11-25 until:2019-12-01', 'galaxynote since:2019-12-01 until:2019-12-07', 'galaxynote since:2019-12-07 until:2019-12-13', 'galaxynote since:2019-12-13 until:2019-12-19', 'galaxynote since:2019-12-19 until:2019-12-26', 'galaxynote since:2019-12-26 until:2020-01-01', 'galaxynote since:2020-01-01 until:2020-01-07', 'galaxynote since:2020-01-07 until:2020-01-13', 'galaxynote since:2020-01-13 until:2020-01-19', 'galaxynote since:2020-01-19 until:2020-01-25', 'galaxynote since:2020-01-25 until:2020-02-01']\n",
      "INFO: Got 19 tweets (19 new).\n",
      "INFO: Got 39 tweets (20 new).\n",
      "INFO: Got 59 tweets (20 new).\n",
      "INFO: Got 79 tweets (20 new).\n",
      "INFO: Got 98 tweets (19 new).\n",
      "INFO: Got 118 tweets (20 new).\n",
      "INFO: Got 135 tweets (17 new).\n",
      "INFO: Got 155 tweets (20 new).\n",
      "INFO: Got 172 tweets (17 new).\n",
      "INFO: Got 191 tweets (19 new).\n",
      "INFO: Got 211 tweets (20 new).\n",
      "INFO: Got 231 tweets (20 new).\n",
      "INFO: Got 249 tweets (18 new).\n",
      "INFO: Got 263 tweets (14 new).\n",
      "INFO: Got 283 tweets (20 new).\n",
      "INFO: Got 301 tweets (18 new).\n",
      "INFO: Got 320 tweets (19 new).\n",
      "INFO: Got 339 tweets (19 new).\n",
      "INFO: Got 377 tweets (38 new).\n",
      "INFO: Got 417 tweets (40 new).\n",
      "INFO: queries: ['galaxybuds since:2019-10-01 until:2019-10-07', 'galaxybuds since:2019-10-07 until:2019-10-13', 'galaxybuds since:2019-10-13 until:2019-10-19', 'galaxybuds since:2019-10-19 until:2019-10-25', 'galaxybuds since:2019-10-25 until:2019-10-31', 'galaxybuds since:2019-10-31 until:2019-11-06', 'galaxybuds since:2019-11-06 until:2019-11-13', 'galaxybuds since:2019-11-13 until:2019-11-19', 'galaxybuds since:2019-11-19 until:2019-11-25', 'galaxybuds since:2019-11-25 until:2019-12-01', 'galaxybuds since:2019-12-01 until:2019-12-07', 'galaxybuds since:2019-12-07 until:2019-12-13', 'galaxybuds since:2019-12-13 until:2019-12-19', 'galaxybuds since:2019-12-19 until:2019-12-26', 'galaxybuds since:2019-12-26 until:2020-01-01', 'galaxybuds since:2020-01-01 until:2020-01-07', 'galaxybuds since:2020-01-07 until:2020-01-13', 'galaxybuds since:2020-01-13 until:2020-01-19', 'galaxybuds since:2020-01-19 until:2020-01-25', 'galaxybuds since:2020-01-25 until:2020-02-01']\n"
     ]
    },
    {
     "name": "stderr",
     "output_type": "stream",
     "text": [
      "INFO: Got 19 tweets (19 new).\n",
      "INFO: Got 38 tweets (19 new).\n",
      "INFO: Got 58 tweets (20 new).\n",
      "INFO: Got 78 tweets (20 new).\n",
      "INFO: Got 96 tweets (18 new).\n",
      "INFO: Got 114 tweets (18 new).\n",
      "INFO: Got 133 tweets (19 new).\n",
      "INFO: Got 149 tweets (16 new).\n",
      "INFO: Got 167 tweets (18 new).\n",
      "INFO: Got 184 tweets (17 new).\n",
      "INFO: Got 200 tweets (16 new).\n",
      "INFO: Got 218 tweets (18 new).\n",
      "INFO: Got 236 tweets (18 new).\n",
      "INFO: Got 252 tweets (16 new).\n",
      "INFO: Got 271 tweets (19 new).\n",
      "INFO: Got 290 tweets (19 new).\n",
      "INFO: Got 310 tweets (20 new).\n",
      "INFO: Got 329 tweets (19 new).\n",
      "INFO: Got 347 tweets (18 new).\n",
      "INFO: Got 365 tweets (18 new).\n"
     ]
    },
    {
     "name": "stdout",
     "output_type": "stream",
     "text": [
      "@Samsung\n",
      "@SamsungMobile\n",
      "samsunggalaxy\n",
      "SamsungSupport\n",
      "galaxynote\n",
      "galaxybuds\n",
      "Finally finished!\n"
     ]
    }
   ],
   "source": [
    "i=0\n",
    "while i < len(NameOfCompanies):   \n",
    "    begin_date = dt.date(2019,10,1)\n",
    "    end_date = dt.date(2020,2,1)\n",
    "    limit = 0\n",
    "    lang = \"english\"\n",
    "    CompanyTweets = query_tweets(NameOfCompanies[i], limit=limit, begindate=begin_date, enddate=end_date, lang=lang)\n",
    "    companies.append(CompanyTweets)\n",
    "    i= i+1\n",
    "else:\n",
    "    print(NameOfCompanies[0])\n",
    "    print(NameOfCompanies[1])\n",
    "    print(NameOfCompanies[2])\n",
    "    print(NameOfCompanies[3])\n",
    "    print(NameOfCompanies[4])\n",
    "    print(NameOfCompanies[5])\n",
    "    print(\"Finally finished!\")"
   ]
  },
  {
   "cell_type": "code",
   "execution_count": 4,
   "metadata": {},
   "outputs": [],
   "source": [
    "dfNames = [\"@Samsung\",\"@SamsungMobile\", \"samsunggalaxy\", \"SamsungSupport\",\"galaxynote\",\"galaxybuds\"]"
   ]
  },
  {
   "cell_type": "code",
   "execution_count": 5,
   "metadata": {},
   "outputs": [],
   "source": [
    "i=0\n",
    "for company in companies:\n",
    "    dfNames[i] = pd.DataFrame(t.__dict__ for t in  company)\n",
    "    i = i+1"
   ]
  },
  {
   "cell_type": "code",
   "execution_count": 6,
   "metadata": {},
   "outputs": [],
   "source": [
    "Samsung = dfNames[0]\n",
    "SamsungMobile = dfNames[1]\n",
    "samsunggalaxy = dfNames[2]\n",
    "SamsungSupport = dfNames[3]\n",
    "galaxynote = dfNames[4]\n",
    "galaxybuds = dfNames[5]"
   ]
  },
  {
   "cell_type": "code",
   "execution_count": 7,
   "metadata": {},
   "outputs": [],
   "source": [
    "SamsungTweets = Samsung.append([samsunggalaxy,SamsungMobile,SamsungSupport,galaxynote,galaxybuds])"
   ]
  },
  {
   "cell_type": "code",
   "execution_count": 8,
   "metadata": {},
   "outputs": [],
   "source": [
    "SamsungTweets.reset_index(inplace=True, drop=True)"
   ]
  },
  {
   "cell_type": "code",
   "execution_count": 9,
   "metadata": {},
   "outputs": [
    {
     "data": {
      "text/plain": [
       "0     @Samsung thanks for selling me a lemon TV! Bra...\n",
       "1     So that means…we can’t cook any food until @Ho...\n",
       "2     Just when I thought the @HomeDepotCanada CLUST...\n",
       "3     The issue isn't with my tablet. The issue is t...\n",
       "4     Bro, i  have been eyeing that phone.... how do...\n",
       "5     @Samsung @SamsungMobile @SamsungUK \\nCant figu...\n",
       "6     Falta poco para conocer al Gran Innova 2019 ¡N...\n",
       "7                                                      \n",
       "8     Unable to opt out of advertising - only can op...\n",
       "9     I had a fantastic time speaking to Mr. Nidumol...\n",
       "10                    This is actually my dream bedroom\n",
       "11    @Samsung how can I make the s pen work with my...\n",
       "12    Une mise à jour pour les Galaxy Buds, concerna...\n",
       "13    @Samsung thanks for selling me a lemon TV! Bra...\n",
       "14    So that means…we can’t cook any food until @Ho...\n",
       "15    Just when I thought the @HomeDepotCanada CLUST...\n",
       "16    The issue isn't with my tablet. The issue is t...\n",
       "17    Bro, i  have been eyeing that phone.... how do...\n",
       "18    @Samsung @SamsungMobile @SamsungUK \\nCant figu...\n",
       "19    Falta poco para conocer al Gran Innova 2019 ¡N...\n",
       "20                                                     \n",
       "21    Unable to opt out of advertising - only can op...\n",
       "22    I had a fantastic time speaking to Mr. Nidumol...\n",
       "23                    This is actually my dream bedroom\n",
       "24    @Samsung how can I make the s pen work with my...\n",
       "25    Une mise à jour pour les Galaxy Buds, concerna...\n",
       "26           Muito bom,preço de é igual a do iPad Apple\n",
       "27    Hey @Samsung I think it’s unnatural for a Plas...\n",
       "28           Yeah. Gotta try pic.twitter.com/kBPXhcKgFq\n",
       "29    @Samsung @SamsungTurkiye 30 kameralı telefon y...\n",
       "30                         @befrugal is a liar company!\n",
       "31    Get A Brand New @Samsung #Galaxy S10 For #Free...\n",
       "32    Advert on tv, ok Google play Wonderful Christm...\n",
       "33    I can just imagine ya. I’d never go with eir a...\n",
       "34    So I got the Samsung Odyssey+ on a sweet deal ...\n",
       "35    Think I'm just jinxed with some suppliers. Guy...\n",
       "36                You finally got it sorted. Some dose.\n",
       "37    @Samsung stop telling me how to live my life. ...\n",
       "38    @ScaLibBDP @Samsung @Amd @Arm @Qualcomm @Dell ...\n",
       "39    @Samsung why is it so hard to get a Samsung In...\n",
       "40    #boycottmobile as it should always be #veteran...\n",
       "41    Where do you get those panel things on the wal...\n",
       "42    @BestBuy @Samsung @SamsungUS very disappointed...\n",
       "43    I'm myself am thinking about buying a VR heads...\n",
       "44    @LimJH12 serves general security interest, eve...\n",
       "45    .@Samsung is discounting some of its best tech...\n",
       "46    @Samsung @SamsungUS Listen up people do no buy...\n",
       "47    @SamsungMobile @SamsungMobileUS @SamsungIndia ...\n",
       "48    Looking for 1440p?\\n\\nThis awesome @Samsung Sp...\n",
       "49    More: Spies at @samsung have special #code, mo...\n",
       "Name: text, dtype: object"
      ]
     },
     "execution_count": 9,
     "metadata": {},
     "output_type": "execute_result"
    }
   ],
   "source": [
    "SamsungTweets.text.head(50)"
   ]
  },
  {
   "cell_type": "code",
   "execution_count": 10,
   "metadata": {},
   "outputs": [
    {
     "data": {
      "text/plain": [
       "(14841, 21)"
      ]
     },
     "execution_count": 10,
     "metadata": {},
     "output_type": "execute_result"
    }
   ],
   "source": [
    "SamsungTweets.shape"
   ]
  },
  {
   "cell_type": "code",
   "execution_count": 11,
   "metadata": {},
   "outputs": [],
   "source": [
    "SamsungTweets.to_csv('data/SamsungTweets.csv',index=False)"
   ]
  }
 ],
 "metadata": {
  "kernelspec": {
   "display_name": "Python 3",
   "language": "python",
   "name": "python3"
  },
  "language_info": {
   "codemirror_mode": {
    "name": "ipython",
    "version": 3
   },
   "file_extension": ".py",
   "mimetype": "text/x-python",
   "name": "python",
   "nbconvert_exporter": "python",
   "pygments_lexer": "ipython3",
   "version": "3.7.6"
  }
 },
 "nbformat": 4,
 "nbformat_minor": 2
}
