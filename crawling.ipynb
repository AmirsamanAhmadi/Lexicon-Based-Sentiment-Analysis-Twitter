{
 "cells": [
  {
   "cell_type": "code",
   "execution_count": null,
   "metadata": {},
   "outputs": [
    {
     "name": "stderr",
     "output_type": "stream",
     "text": [
      "INFO: {'User-Agent': 'Mozilla/5.0 (Windows NT 5.2; RW; rv:7.0a1) Gecko/20091211 SeaMonkey/9.23a1pre'}\n"
     ]
    }
   ],
   "source": [
    "from twitterscraper import query_tweets\n",
    "import datetime as dt\n",
    "import pandas as pd\n",
    "import seaborn as sns\n",
    "import matplotlib.pyplot as plt\n",
    "import nltk\n",
    "import string\n",
    "from sklearn.feature_extraction import text\n",
    "from sklearn.feature_extraction.text import TfidfVectorizer, CountVectorizer\n",
    "from time import time, sleep\n",
    "from wordcloud import WordCloud, STOPWORDS\n",
    "from nltk.stem import WordNetLemmatizer, PorterStemmer\n",
    "from nltk.corpus import wordnet\n",
    "from sklearn.decomposition import LatentDirichletAllocation\n",
    "from textblob import TextBlob\n",
    "from nltk.sentiment.vader import SentimentIntensityAnalyzer"
   ]
  },
  {
   "cell_type": "code",
   "execution_count": 2,
   "metadata": {},
   "outputs": [],
   "source": [
    "NameOfCompanies = [\"Apple\", \"Samsung\", \"Huawei\"]\n",
    "companies = []"
   ]
  },
  {
   "cell_type": "code",
   "execution_count": 3,
   "metadata": {},
   "outputs": [
    {
     "name": "stderr",
     "output_type": "stream",
     "text": [
      "INFO: queries: ['Apple since:2019-11-01 until:2019-11-05', 'Apple since:2019-11-05 until:2019-11-10', 'Apple since:2019-11-10 until:2019-11-14', 'Apple since:2019-11-14 until:2019-11-19', 'Apple since:2019-11-19 until:2019-11-24', 'Apple since:2019-11-24 until:2019-11-28', 'Apple since:2019-11-28 until:2019-12-03', 'Apple since:2019-12-03 until:2019-12-07', 'Apple since:2019-12-07 until:2019-12-12', 'Apple since:2019-12-12 until:2019-12-17', 'Apple since:2019-12-17 until:2019-12-21', 'Apple since:2019-12-21 until:2019-12-26', 'Apple since:2019-12-26 until:2019-12-30', 'Apple since:2019-12-30 until:2020-01-04', 'Apple since:2020-01-04 until:2020-01-09', 'Apple since:2020-01-09 until:2020-01-13', 'Apple since:2020-01-13 until:2020-01-18', 'Apple since:2020-01-18 until:2020-01-22', 'Apple since:2020-01-22 until:2020-01-27', 'Apple since:2020-01-27 until:2020-02-01']\n",
      "INFO: Got 752 tweets (752 new).\n",
      "INFO: Got 1487 tweets (735 new).\n",
      "INFO: Got 2211 tweets (724 new).\n",
      "INFO: Got 2931 tweets (720 new).\n",
      "INFO: Got 3594 tweets (663 new).\n",
      "INFO: Got 4236 tweets (642 new).\n",
      "INFO: Got 4929 tweets (693 new).\n",
      "INFO: Got 5621 tweets (692 new).\n",
      "INFO: Got 6370 tweets (749 new).\n",
      "INFO: Got 7063 tweets (693 new).\n",
      "INFO: Got 7681 tweets (618 new).\n",
      "INFO: Got 8349 tweets (668 new).\n",
      "INFO: Got 9031 tweets (682 new).\n",
      "INFO: Got 9714 tweets (683 new).\n",
      "INFO: Got 10428 tweets (714 new).\n",
      "INFO: Got 11115 tweets (687 new).\n",
      "INFO: Got 11830 tweets (715 new).\n",
      "INFO: Got 12527 tweets (697 new).\n",
      "INFO: Got 13318 tweets (791 new).\n",
      "INFO: Got 14062 tweets (744 new).\n",
      "INFO: queries: ['Samsung since:2019-11-01 until:2019-11-05', 'Samsung since:2019-11-05 until:2019-11-10', 'Samsung since:2019-11-10 until:2019-11-14', 'Samsung since:2019-11-14 until:2019-11-19', 'Samsung since:2019-11-19 until:2019-11-24', 'Samsung since:2019-11-24 until:2019-11-28', 'Samsung since:2019-11-28 until:2019-12-03', 'Samsung since:2019-12-03 until:2019-12-07', 'Samsung since:2019-12-07 until:2019-12-12', 'Samsung since:2019-12-12 until:2019-12-17', 'Samsung since:2019-12-17 until:2019-12-21', 'Samsung since:2019-12-21 until:2019-12-26', 'Samsung since:2019-12-26 until:2019-12-30', 'Samsung since:2019-12-30 until:2020-01-04', 'Samsung since:2020-01-04 until:2020-01-09', 'Samsung since:2020-01-09 until:2020-01-13', 'Samsung since:2020-01-13 until:2020-01-18', 'Samsung since:2020-01-18 until:2020-01-22', 'Samsung since:2020-01-22 until:2020-01-27', 'Samsung since:2020-01-27 until:2020-02-01']\n",
      "INFO: Got 20 tweets (20 new).\n",
      "INFO: Got 39 tweets (19 new).\n",
      "INFO: Got 58 tweets (19 new).\n",
      "INFO: Got 77 tweets (19 new).\n",
      "INFO: Got 94 tweets (17 new).\n",
      "INFO: Got 114 tweets (20 new).\n",
      "INFO: Got 134 tweets (20 new).\n",
      "INFO: Got 154 tweets (20 new).\n",
      "INFO: Got 174 tweets (20 new).\n",
      "INFO: Got 194 tweets (20 new).\n",
      "INFO: Got 213 tweets (19 new).\n",
      "INFO: Got 232 tweets (19 new).\n",
      "INFO: Got 252 tweets (20 new).\n",
      "INFO: Got 272 tweets (20 new).\n",
      "INFO: Got 291 tweets (19 new).\n",
      "INFO: Got 310 tweets (19 new).\n",
      "INFO: Got 330 tweets (20 new).\n",
      "INFO: Got 349 tweets (19 new).\n",
      "INFO: Got 369 tweets (20 new).\n",
      "INFO: Got 388 tweets (19 new).\n",
      "INFO: queries: ['Huawei since:2019-11-01 until:2019-11-05', 'Huawei since:2019-11-05 until:2019-11-10', 'Huawei since:2019-11-10 until:2019-11-14', 'Huawei since:2019-11-14 until:2019-11-19', 'Huawei since:2019-11-19 until:2019-11-24', 'Huawei since:2019-11-24 until:2019-11-28', 'Huawei since:2019-11-28 until:2019-12-03', 'Huawei since:2019-12-03 until:2019-12-07', 'Huawei since:2019-12-07 until:2019-12-12', 'Huawei since:2019-12-12 until:2019-12-17', 'Huawei since:2019-12-17 until:2019-12-21', 'Huawei since:2019-12-21 until:2019-12-26', 'Huawei since:2019-12-26 until:2019-12-30', 'Huawei since:2019-12-30 until:2020-01-04', 'Huawei since:2020-01-04 until:2020-01-09', 'Huawei since:2020-01-09 until:2020-01-13', 'Huawei since:2020-01-13 until:2020-01-18', 'Huawei since:2020-01-18 until:2020-01-22', 'Huawei since:2020-01-22 until:2020-01-27', 'Huawei since:2020-01-27 until:2020-02-01']\n",
      "INFO: Got 20 tweets (20 new).\n",
      "INFO: Got 39 tweets (19 new).\n",
      "INFO: Got 58 tweets (19 new).\n",
      "INFO: Got 78 tweets (20 new).\n",
      "INFO: Got 97 tweets (19 new).\n",
      "INFO: Got 117 tweets (20 new).\n",
      "INFO: Got 137 tweets (20 new).\n",
      "INFO: Got 154 tweets (17 new).\n",
      "INFO: Got 174 tweets (20 new).\n",
      "INFO: Got 193 tweets (19 new).\n",
      "INFO: Got 213 tweets (20 new).\n",
      "INFO: Got 231 tweets (18 new).\n",
      "INFO: Got 250 tweets (19 new).\n",
      "INFO: Got 270 tweets (20 new).\n",
      "INFO: Got 290 tweets (20 new).\n",
      "INFO: Got 310 tweets (20 new).\n",
      "INFO: Got 329 tweets (19 new).\n",
      "INFO: Got 348 tweets (19 new).\n",
      "INFO: Got 368 tweets (20 new).\n",
      "INFO: Got 388 tweets (20 new).\n"
     ]
    },
    {
     "name": "stdout",
     "output_type": "stream",
     "text": [
      "Apple\n",
      "Samsung\n",
      "Huawei\n",
      "Finally finished!\n"
     ]
    }
   ],
   "source": [
    "i=0\n",
    "while i < len(NameOfCompanies):   \n",
    "    begin_date = dt.date(2019,10,1)\n",
    "    end_date = dt.date(2020,2,1)\n",
    "    limit = 0\n",
    "    lang = \"english\"\n",
    "    CompanyTweets = query_tweets(NameOfCompanies[i], limit=limit, begindate=begin_date, enddate=end_date, lang=lang)\n",
    "    companies.append(CompanyTweets)\n",
    "    i= i+1\n",
    "else:\n",
    "    print(NameOfCompanies[0])\n",
    "    print(NameOfCompanies[1])\n",
    "    print(NameOfCompanies[2])\n",
    "    print(\"Finally finished!\")"
   ]
  },
  {
   "cell_type": "code",
   "execution_count": 4,
   "metadata": {},
   "outputs": [
    {
     "data": {
      "text/plain": [
       "3"
      ]
     },
     "execution_count": 4,
     "metadata": {},
     "output_type": "execute_result"
    }
   ],
   "source": [
    "len(companies)"
   ]
  },
  {
   "cell_type": "code",
   "execution_count": 5,
   "metadata": {},
   "outputs": [],
   "source": [
    "dfNames = ['AppleTweets','SamsungTweets','HuaweiTweets']"
   ]
  },
  {
   "cell_type": "code",
   "execution_count": 6,
   "metadata": {},
   "outputs": [],
   "source": [
    "i=0\n",
    "for company in companies:\n",
    "    dfNames[i] = pd.DataFrame(t.__dict__ for t in  company)\n",
    "    i = i+1"
   ]
  },
  {
   "cell_type": "code",
   "execution_count": 7,
   "metadata": {},
   "outputs": [],
   "source": [
    "AppleTweets = dfNames[0]\n",
    "SamsungTweets = dfNames[1]\n",
    "HuaweiTweets = dfNames[2]"
   ]
  },
  {
   "cell_type": "code",
   "execution_count": 75,
   "metadata": {},
   "outputs": [
    {
     "data": {
      "text/plain": [
       "(14040, 9)"
      ]
     },
     "execution_count": 75,
     "metadata": {},
     "output_type": "execute_result"
    }
   ],
   "source": [
    "AppleTweets.shape"
   ]
  },
  {
   "cell_type": "code",
   "execution_count": 73,
   "metadata": {},
   "outputs": [
    {
     "data": {
      "text/plain": [
       "(14239, 9)"
      ]
     },
     "execution_count": 73,
     "metadata": {},
     "output_type": "execute_result"
    }
   ],
   "source": [
    "SamsungTweets.shape"
   ]
  },
  {
   "cell_type": "code",
   "execution_count": 74,
   "metadata": {},
   "outputs": [
    {
     "data": {
      "text/plain": [
       "(14150, 9)"
      ]
     },
     "execution_count": 74,
     "metadata": {},
     "output_type": "execute_result"
    }
   ],
   "source": [
    "HuaweiTweets.shape"
   ]
  },
  {
   "cell_type": "code",
   "execution_count": null,
   "metadata": {},
   "outputs": [],
   "source": [
    "AppleTweets.to_csv('AppleTweets.csv')"
   ]
  },
  {
   "cell_type": "code",
   "execution_count": 34,
   "metadata": {},
   "outputs": [],
   "source": [
    "SamsungTweets.to_csv('SamsungTweets.csv')"
   ]
  },
  {
   "cell_type": "code",
   "execution_count": 35,
   "metadata": {},
   "outputs": [],
   "source": [
    "HuaweiTweets.to_csv('HuaweiTweets.csv')"
   ]
  }
 ],
 "metadata": {
  "kernelspec": {
   "display_name": "Python 3",
   "language": "python",
   "name": "python3"
  },
  "language_info": {
   "codemirror_mode": {
    "name": "ipython",
    "version": 3
   },
   "file_extension": ".py",
   "mimetype": "text/x-python",
   "name": "python",
   "nbconvert_exporter": "python",
   "pygments_lexer": "ipython3",
   "version": "3.7.6"
  }
 },
 "nbformat": 4,
 "nbformat_minor": 2
}
